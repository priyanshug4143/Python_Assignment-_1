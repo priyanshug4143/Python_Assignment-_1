{
 "cells": [
  {
   "cell_type": "code",
   "execution_count": 2,
   "id": "d194556f",
   "metadata": {},
   "outputs": [],
   "source": [
    "#1. In the below elements which of them are values or an expression? eg:- values can be integer or string and \n",
    "#expressions will be mathematical operators."
   ]
  },
  {
   "cell_type": "code",
   "execution_count": 3,
   "id": "25285187",
   "metadata": {},
   "outputs": [],
   "source": [
    "# Answer\n",
    "#values  is  6 , -87.8 , “hello”\n",
    " #Expression is * , - , /, +"
   ]
  },
  {
   "cell_type": "code",
   "execution_count": null,
   "id": "d8e159e2",
   "metadata": {},
   "outputs": [],
   "source": []
  },
  {
   "cell_type": "code",
   "execution_count": 4,
   "id": "ebb08f66",
   "metadata": {},
   "outputs": [],
   "source": [
    "#2. What is the difference between string and variable?\n",
    "#Answer :  string means store of  information   and variables means in which you have store the info"
   ]
  },
  {
   "cell_type": "code",
   "execution_count": 5,
   "id": "5bb0f6af",
   "metadata": {},
   "outputs": [],
   "source": [
    "# Answer\n",
    "Name=\"priyanshu Dhunilal Gupta\""
   ]
  },
  {
   "cell_type": "code",
   "execution_count": 6,
   "id": "31169e99",
   "metadata": {},
   "outputs": [],
   "source": [
    "#Name is variable  and “ priyanshu Dhunilal Gupta” is string"
   ]
  },
  {
   "cell_type": "code",
   "execution_count": null,
   "id": "ab56af25",
   "metadata": {},
   "outputs": [],
   "source": []
  },
  {
   "cell_type": "code",
   "execution_count": 7,
   "id": "7fe0b716",
   "metadata": {},
   "outputs": [],
   "source": [
    "#3. Describe three types of data types ?\n",
    "#Answer : 1) Integer , Float , String , Datetime"
   ]
  },
  {
   "cell_type": "code",
   "execution_count": null,
   "id": "1c093893",
   "metadata": {},
   "outputs": [],
   "source": []
  },
  {
   "cell_type": "code",
   "execution_count": 9,
   "id": "57857721",
   "metadata": {},
   "outputs": [],
   "source": [
    "#4. What is an expression made up of? What do all expressions do?\n",
    "#Answer :  \ta combination of variable and operators is called expression\n",
    "#Expression gives a result\n",
    "#Eg \n",
    "a=5 \n",
    "B=a+5  #its a Expression "
   ]
  },
  {
   "cell_type": "code",
   "execution_count": null,
   "id": "3591f0d0",
   "metadata": {},
   "outputs": [],
   "source": []
  },
  {
   "cell_type": "code",
   "execution_count": 10,
   "id": "808e2b27",
   "metadata": {},
   "outputs": [],
   "source": [
    "#5. This assignment statements, like spam = 10. What is the difference between an expression and a statement?\n",
    "#Answer : here the spam=10 is a statement and we use a spam variable else where that time it will become expression\n",
    "spam=10\n",
    "B=spam+23 \t\t# HERE the B is a expression"
   ]
  },
  {
   "cell_type": "code",
   "execution_count": null,
   "id": "f117f0d7",
   "metadata": {},
   "outputs": [],
   "source": []
  },
  {
   "cell_type": "code",
   "execution_count": 12,
   "id": "1857dadd",
   "metadata": {},
   "outputs": [
    {
     "data": {
      "text/plain": [
       "23"
      ]
     },
     "execution_count": 12,
     "metadata": {},
     "output_type": "execute_result"
    }
   ],
   "source": [
    "#6. After running the following code, what does the variable bacon contain?\n",
    "bacon = 22\n",
    "bacon + 1\n",
    "\n",
    "#answer:  answer will be a 23"
   ]
  },
  {
   "cell_type": "code",
   "execution_count": null,
   "id": "1961a466",
   "metadata": {},
   "outputs": [],
   "source": []
  },
  {
   "cell_type": "code",
   "execution_count": null,
   "id": "b8eaedd1",
   "metadata": {},
   "outputs": [],
   "source": [
    "#7. What should the values of the following two terms be?\n",
    "#1st term “spam” + “spamspam”\n",
    "#“spam”* 3\n"
   ]
  },
  {
   "cell_type": "code",
   "execution_count": 15,
   "id": "00c58973",
   "metadata": {},
   "outputs": [
    {
     "name": "stdout",
     "output_type": "stream",
     "text": [
      "Answer\n",
      "answer of 1st will be a spamspamspam\n",
      "spamspamspam\n",
      "It a string concatenation\n",
      "Answer of 2nd will be\n",
      "spamspamspam\n",
      "It will print a string 3 times\n"
     ]
    }
   ],
   "source": [
    "print(\"Answer\") \n",
    "print(\"answer of 1st will be a\" , \"spam\"+\"spamspam\") \n",
    "print(\"spam\"+\"spamspam\")\n",
    "print(\"It a string concatenation\")\n",
    "print(\"Answer of 2nd will be\")\n",
    "print(\"spam\"*3)\n",
    "print(\"It will print a string 3 times\")"
   ]
  },
  {
   "cell_type": "code",
   "execution_count": null,
   "id": "f5c51379",
   "metadata": {},
   "outputs": [],
   "source": []
  },
  {
   "cell_type": "code",
   "execution_count": 16,
   "id": "fd5bae1e",
   "metadata": {},
   "outputs": [
    {
     "name": "stdout",
     "output_type": "stream",
     "text": [
      "Answer : beacause  100 is integer and eggs is a variable Its not allowed in python\n"
     ]
    }
   ],
   "source": [
    "#8 .  Why is eggs a valid variable name while 100 is invalid?\n",
    "print(\"Answer : beacause  100 is integer and eggs is a variable Its not allowed in python\")\n"
   ]
  },
  {
   "cell_type": "code",
   "execution_count": 17,
   "id": "87dc0381",
   "metadata": {},
   "outputs": [],
   "source": [
    "eggs=100"
   ]
  },
  {
   "cell_type": "code",
   "execution_count": 20,
   "id": "e988219a",
   "metadata": {},
   "outputs": [
    {
     "ename": "SyntaxError",
     "evalue": "cannot assign to literal here. Maybe you meant '==' instead of '='? (1970962374.py, line 1)",
     "output_type": "error",
     "traceback": [
      "\u001b[1;36m  Input \u001b[1;32mIn [20]\u001b[1;36m\u001b[0m\n\u001b[1;33m    100=eggs\u001b[0m\n\u001b[1;37m    ^\u001b[0m\n\u001b[1;31mSyntaxError\u001b[0m\u001b[1;31m:\u001b[0m cannot assign to literal here. Maybe you meant '==' instead of '='?\n"
     ]
    }
   ],
   "source": [
    "100=eggs"
   ]
  },
  {
   "cell_type": "code",
   "execution_count": null,
   "id": "def3c5eb",
   "metadata": {},
   "outputs": [],
   "source": []
  },
  {
   "cell_type": "code",
   "execution_count": 26,
   "id": "83b2b699",
   "metadata": {},
   "outputs": [
    {
     "name": "stdout",
     "output_type": "stream",
     "text": [
      "9.  What three functions can be used to get the integer, floating-point number, or string version of a value?\n",
      "Answer: the 1st one is int()\n",
      "Eg\n",
      "enter a 1st number345\n",
      "enter a 2nd number545\n"
     ]
    }
   ],
   "source": [
    "print(\"9.  What three functions can be used to get the integer, floating-point number, or string version of a value?\")\n",
    "print(\"Answer: the 1st one is int()\")\n",
    "print(\"Eg\")\n",
    "a =int(input(\"enter a 1st number\"))\n",
    "B=float(input(\"enter a 2nd number\"))\n",
    "C=str(a)"
   ]
  },
  {
   "cell_type": "code",
   "execution_count": null,
   "id": "8cd4c277",
   "metadata": {},
   "outputs": [],
   "source": []
  },
  {
   "cell_type": "code",
   "execution_count": 30,
   "id": "38dcd191",
   "metadata": {},
   "outputs": [
    {
     "name": "stdout",
     "output_type": "stream",
     "text": [
      "10. Why does this expression cause an error? How can you fix it? I have eaten + 99 + burritos\n",
      "answer\n",
      "Here the string and integer can not concatenate  , we can  convert the 99 into string otherwise we can do \n",
      "I have eaten” , 99 , “biryani\n"
     ]
    }
   ],
   "source": [
    "print(\"10. Why does this expression cause an error? How can you fix it?\" , \"I have eaten + 99 + burritos\")\n",
    "\n",
    "print(\"answer\")\n",
    "print(\"Here the string and integer can not concatenate  , we can  convert the 99 into string otherwise we can do \")\n",
    "print(\"I have eaten” , 99 , “biryani\")"
   ]
  },
  {
   "cell_type": "code",
   "execution_count": null,
   "id": "5348b809",
   "metadata": {},
   "outputs": [],
   "source": []
  }
 ],
 "metadata": {
  "kernelspec": {
   "display_name": "Python 3 (ipykernel)",
   "language": "python",
   "name": "python3"
  },
  "language_info": {
   "codemirror_mode": {
    "name": "ipython",
    "version": 3
   },
   "file_extension": ".py",
   "mimetype": "text/x-python",
   "name": "python",
   "nbconvert_exporter": "python",
   "pygments_lexer": "ipython3",
   "version": "3.10.5"
  }
 },
 "nbformat": 4,
 "nbformat_minor": 5
}
